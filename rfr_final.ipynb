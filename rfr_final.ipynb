{
 "cells": [
  {
   "cell_type": "code",
   "execution_count": 2,
   "id": "b6dd51b8-bf4a-4581-b85a-ac8e0110f76f",
   "metadata": {},
   "outputs": [],
   "source": [
    "#Employee Salary prediction using adult.csv\n",
    "#import your libraries\n",
    "import pandas as pd"
   ]
  },
  {
   "cell_type": "code",
   "execution_count": 3,
   "id": "da2e3228-8cd5-44ec-bf09-bb515c120742",
   "metadata": {},
   "outputs": [],
   "source": [
    "data= pd.read_csv(r\"C:\\Users\\adira\\Downloads\\updated_employee_salary_dataset.csv\")"
   ]
  },
  {
   "cell_type": "code",
   "execution_count": 4,
   "id": "b4d367b7-da24-45a9-b4dc-816f6d13a39a",
   "metadata": {},
   "outputs": [
    {
     "data": {
      "text/html": [
       "<div>\n",
       "<style scoped>\n",
       "    .dataframe tbody tr th:only-of-type {\n",
       "        vertical-align: middle;\n",
       "    }\n",
       "\n",
       "    .dataframe tbody tr th {\n",
       "        vertical-align: top;\n",
       "    }\n",
       "\n",
       "    .dataframe thead th {\n",
       "        text-align: right;\n",
       "    }\n",
       "</style>\n",
       "<table border=\"1\" class=\"dataframe\">\n",
       "  <thead>\n",
       "    <tr style=\"text-align: right;\">\n",
       "      <th></th>\n",
       "      <th>education_level</th>\n",
       "      <th>experience</th>\n",
       "      <th>location</th>\n",
       "      <th>job_title</th>\n",
       "      <th>age</th>\n",
       "      <th>gender</th>\n",
       "      <th>salary</th>\n",
       "    </tr>\n",
       "  </thead>\n",
       "  <tbody>\n",
       "    <tr>\n",
       "      <th>0</th>\n",
       "      <td>High School</td>\n",
       "      <td>29</td>\n",
       "      <td>Urban</td>\n",
       "      <td>Data Analyst</td>\n",
       "      <td>34</td>\n",
       "      <td>Male</td>\n",
       "      <td>117600</td>\n",
       "    </tr>\n",
       "    <tr>\n",
       "      <th>1</th>\n",
       "      <td>PhD</td>\n",
       "      <td>3</td>\n",
       "      <td>Suburban</td>\n",
       "      <td>Data Analyst</td>\n",
       "      <td>46</td>\n",
       "      <td>Male</td>\n",
       "      <td>81937</td>\n",
       "    </tr>\n",
       "    <tr>\n",
       "      <th>2</th>\n",
       "      <td>Bachelor's</td>\n",
       "      <td>6</td>\n",
       "      <td>Rural</td>\n",
       "      <td>HR Manager</td>\n",
       "      <td>44</td>\n",
       "      <td>Female</td>\n",
       "      <td>60775</td>\n",
       "    </tr>\n",
       "    <tr>\n",
       "      <th>3</th>\n",
       "      <td>Master's</td>\n",
       "      <td>12</td>\n",
       "      <td>Rural</td>\n",
       "      <td>HR Manager</td>\n",
       "      <td>49</td>\n",
       "      <td>Male</td>\n",
       "      <td>82280</td>\n",
       "    </tr>\n",
       "    <tr>\n",
       "      <th>4</th>\n",
       "      <td>Bachelor's</td>\n",
       "      <td>1</td>\n",
       "      <td>Rural</td>\n",
       "      <td>Clerk</td>\n",
       "      <td>59</td>\n",
       "      <td>Female</td>\n",
       "      <td>17850</td>\n",
       "    </tr>\n",
       "    <tr>\n",
       "      <th>...</th>\n",
       "      <td>...</td>\n",
       "      <td>...</td>\n",
       "      <td>...</td>\n",
       "      <td>...</td>\n",
       "      <td>...</td>\n",
       "      <td>...</td>\n",
       "      <td>...</td>\n",
       "    </tr>\n",
       "    <tr>\n",
       "      <th>29995</th>\n",
       "      <td>High School</td>\n",
       "      <td>11</td>\n",
       "      <td>Rural</td>\n",
       "      <td>Director</td>\n",
       "      <td>58</td>\n",
       "      <td>Male</td>\n",
       "      <td>126480</td>\n",
       "    </tr>\n",
       "    <tr>\n",
       "      <th>29996</th>\n",
       "      <td>Bachelor's</td>\n",
       "      <td>29</td>\n",
       "      <td>Urban</td>\n",
       "      <td>Data Analyst</td>\n",
       "      <td>44</td>\n",
       "      <td>Female</td>\n",
       "      <td>147000</td>\n",
       "    </tr>\n",
       "    <tr>\n",
       "      <th>29997</th>\n",
       "      <td>PhD</td>\n",
       "      <td>18</td>\n",
       "      <td>Suburban</td>\n",
       "      <td>Technician</td>\n",
       "      <td>56</td>\n",
       "      <td>Female</td>\n",
       "      <td>67687</td>\n",
       "    </tr>\n",
       "    <tr>\n",
       "      <th>29998</th>\n",
       "      <td>Bachelor's</td>\n",
       "      <td>2</td>\n",
       "      <td>Urban</td>\n",
       "      <td>Technician</td>\n",
       "      <td>52</td>\n",
       "      <td>Female</td>\n",
       "      <td>33000</td>\n",
       "    </tr>\n",
       "    <tr>\n",
       "      <th>29999</th>\n",
       "      <td>Bachelor's</td>\n",
       "      <td>21</td>\n",
       "      <td>Rural</td>\n",
       "      <td>Marketing Executive</td>\n",
       "      <td>21</td>\n",
       "      <td>Male</td>\n",
       "      <td>60987</td>\n",
       "    </tr>\n",
       "  </tbody>\n",
       "</table>\n",
       "<p>30000 rows × 7 columns</p>\n",
       "</div>"
      ],
      "text/plain": [
       "      education_level  experience  location            job_title  age  gender  \\\n",
       "0         High School          29     Urban         Data Analyst   34    Male   \n",
       "1                 PhD           3  Suburban         Data Analyst   46    Male   \n",
       "2          Bachelor's           6     Rural           HR Manager   44  Female   \n",
       "3            Master's          12     Rural           HR Manager   49    Male   \n",
       "4          Bachelor's           1     Rural                Clerk   59  Female   \n",
       "...               ...         ...       ...                  ...  ...     ...   \n",
       "29995     High School          11     Rural             Director   58    Male   \n",
       "29996      Bachelor's          29     Urban         Data Analyst   44  Female   \n",
       "29997             PhD          18  Suburban           Technician   56  Female   \n",
       "29998      Bachelor's           2     Urban           Technician   52  Female   \n",
       "29999      Bachelor's          21     Rural  Marketing Executive   21    Male   \n",
       "\n",
       "       salary  \n",
       "0      117600  \n",
       "1       81937  \n",
       "2       60775  \n",
       "3       82280  \n",
       "4       17850  \n",
       "...       ...  \n",
       "29995  126480  \n",
       "29996  147000  \n",
       "29997   67687  \n",
       "29998   33000  \n",
       "29999   60987  \n",
       "\n",
       "[30000 rows x 7 columns]"
      ]
     },
     "execution_count": 4,
     "metadata": {},
     "output_type": "execute_result"
    }
   ],
   "source": [
    "data"
   ]
  },
  {
   "cell_type": "code",
   "execution_count": 5,
   "id": "c10c3fef-7bd7-46e2-9812-8db9cfaf257f",
   "metadata": {},
   "outputs": [
    {
     "data": {
      "text/plain": [
       "education_level    0\n",
       "experience         0\n",
       "location           0\n",
       "job_title          0\n",
       "age                0\n",
       "gender             0\n",
       "salary             0\n",
       "dtype: int64"
      ]
     },
     "execution_count": 5,
     "metadata": {},
     "output_type": "execute_result"
    }
   ],
   "source": [
    "data.isna().sum()"
   ]
  },
  {
   "cell_type": "code",
   "execution_count": 6,
   "id": "3b212f79-752d-410d-9c12-49b225ec66fa",
   "metadata": {},
   "outputs": [
    {
     "name": "stdout",
     "output_type": "stream",
     "text": [
      "salary\n",
      "125400    83\n",
      "133000    74\n",
      "114000    74\n",
      "56100     72\n",
      "51000     71\n",
      "          ..\n",
      "224675     1\n",
      "61880      1\n",
      "286875     1\n",
      "57997      1\n",
      "73437      1\n",
      "Name: count, Length: 2120, dtype: int64\n"
     ]
    }
   ],
   "source": [
    "print(data.salary.value_counts())"
   ]
  },
  {
   "cell_type": "code",
   "execution_count": 7,
   "id": "ffdad61d-dd1c-455c-9204-fd3979125e26",
   "metadata": {},
   "outputs": [
    {
     "data": {
      "text/plain": [
       "education_level    object\n",
       "experience          int64\n",
       "location           object\n",
       "job_title          object\n",
       "age                 int64\n",
       "gender             object\n",
       "salary              int64\n",
       "dtype: object"
      ]
     },
     "execution_count": 7,
     "metadata": {},
     "output_type": "execute_result"
    }
   ],
   "source": [
    "data.dtypes\n"
   ]
  },
  {
   "cell_type": "code",
   "execution_count": 8,
   "id": "72f7ed96-81bb-4cac-b68a-23923f9ab705",
   "metadata": {},
   "outputs": [
    {
     "data": {
      "image/png": "[encoded data removed]",
      "text/plain": [
       "<Figure size 640x480 with 1 Axes>"
      ]
     },
     "metadata": {},
     "output_type": "display_data"
    }
   ],
   "source": [
    "#outlier\n",
    "import matplotlib.pyplot as plt\n",
    "plt.boxplot(data['age'])\n",
    "plt.grid()\n",
    "plt.show()"
   ]
  },
  {
   "cell_type": "code",
   "execution_count": 9,
   "id": "7488a017-4551-4f65-9b77-20f4fd666538",
   "metadata": {},
   "outputs": [],
   "source": [
    "from sklearn.preprocessing import LabelEncoder\n",
    "\n",
    "encoders = {}\n",
    "categorical_cols = ['education_level', 'location', 'job_title', 'gender']\n",
    "\n",
    "for col in categorical_cols:\n",
    "    le = LabelEncoder()\n",
    "    if data[col].dtype == 'object' or str(data[col].dtype).startswith('category'):\n",
    "        data[col] = le.fit_transform(data[col].astype(str))  # Ensures all values are strings\n",
    "        encoders[col] = le"
   ]
  },
  {
   "cell_type": "code",
   "execution_count": 10,
   "id": "100def3b-801b-45bf-a708-6602f3d4a418",
   "metadata": {},
   "outputs": [
    {
     "data": {
      "text/plain": [
       "education_level    int64\n",
       "experience         int64\n",
       "location           int64\n",
       "job_title          int64\n",
       "age                int64\n",
       "gender             int64\n",
       "salary             int64\n",
       "dtype: object"
      ]
     },
     "execution_count": 10,
     "metadata": {},
     "output_type": "execute_result"
    }
   ],
   "source": [
    "data.dtypes"
   ]
  },
  {
   "cell_type": "code",
   "execution_count": 11,
   "id": "d40d1d35-d0a7-45fe-ac86-b247aeaf0a3d",
   "metadata": {},
   "outputs": [
    {
     "name": "stdout",
     "output_type": "stream",
     "text": [
      "Encoding for 'education_level':\n",
      "{\"Bachelor's\": 0, 'High School': 1, \"Master's\": 2, 'PhD': 3}\n",
      "\n",
      "Encoding for 'location':\n",
      "{'Rural': 0, 'Suburban': 1, 'Urban': 2}\n",
      "\n",
      "Encoding for 'job_title':\n",
      "{'Clerk': 0, 'Customer Support': 1, 'Data Analyst': 2, 'Data Scientist': 3, 'Director': 4, 'HR Manager': 5, 'Marketing Executive': 6, 'Product Manager': 7, 'Software Engineer': 8, 'Technician': 9}\n",
      "\n",
      "Encoding for 'gender':\n",
      "{'Female': 0, 'Male': 1}\n",
      "\n"
     ]
    }
   ],
   "source": [
    "for col, le in encoders.items():\n",
    "    print(f\"Encoding for '{col}':\")\n",
    "    mapping = {class_: int(code) for class_, code in zip(le.classes_, le.transform(le.classes_))}\n",
    "    print(mapping)\n",
    "    print()"
   ]
  },
  {
   "cell_type": "code",
   "execution_count": 12,
   "id": "f2bc8a26-f8ad-40b4-b31b-0c201cead18b",
   "metadata": {},
   "outputs": [],
   "source": [
    "# 2. Split features (X) and target (y)\n",
    "X = data.drop('salary', axis=1)\n",
    "y = data['salary']"
   ]
  },
  {
   "cell_type": "code",
   "execution_count": 13,
   "id": "0b28185c-e529-4d0a-a80f-52a4c20ad46c",
   "metadata": {},
   "outputs": [],
   "source": [
    "from sklearn.preprocessing import LabelEncoder, StandardScaler\n",
    "from sklearn.model_selection import train_test_split\n",
    "\n",
    "# 3. Train-test split\n",
    "X_train, X_test, y_train, y_test = train_test_split(X, y, test_size=0.2, random_state=42)"
   ]
  },
  {
   "cell_type": "code",
   "execution_count": 14,
   "id": "7b7e912e-02ba-4668-95d8-356189193f78",
   "metadata": {},
   "outputs": [],
   "source": [
    "# 4. Feature Scaling using StandardScaler\n",
    "scaler = StandardScaler()\n",
    "X_train_scaled = scaler.fit_transform(X_train)\n",
    "X_test_scaled = scaler.transform(X_test)"
   ]
  },
  {
   "cell_type": "code",
   "execution_count": 15,
   "id": "4bb607d9-0ef0-44dd-96b3-4284bbb9f498",
   "metadata": {},
   "outputs": [],
   "source": [
    "from sklearn.linear_model import LinearRegression\n",
    "from sklearn.ensemble import RandomForestRegressor\n",
    "from sklearn.svm import SVR\n",
    "import xgboost as xgb\n",
    "\n",
    "from sklearn.metrics import mean_squared_error, mean_absolute_error, r2_score"
   ]
  },
  {
   "cell_type": "code",
   "execution_count": 16,
   "id": "8a9e7c1b-ea18-4126-944c-2487898c2508",
   "metadata": {},
   "outputs": [],
   "source": [
    "# Initialize models\n",
    "models = {\n",
    "    'Linear Regression': LinearRegression(),\n",
    "    'Random Forest': RandomForestRegressor(n_estimators=100, random_state=42),\n",
    "    'SVR': SVR(),\n",
    "    'XGBoost': xgb.XGBRegressor(objective='reg:squarederror', n_estimators=100, random_state=42)\n",
    "}"
   ]
  },
  {
   "cell_type": "code",
   "execution_count": 17,
   "id": "ef4fb87f-d1f5-49f6-82de-2a0a4a93547e",
   "metadata": {},
   "outputs": [
    {
     "name": "stdout",
     "output_type": "stream",
     "text": [
      "📊 Model Comparison:\n",
      "                            MSE           MAE        R²\n",
      "Linear Regression  3.006686e+09  44019.442414  0.221366\n",
      "Random Forest      6.739145e+04    102.261613  0.999983\n",
      "SVR                4.044984e+09  48443.893394 -0.047519\n",
      "XGBoost            9.966827e+05    694.077820  0.999742\n"
     ]
    }
   ],
   "source": [
    "# Dictionary to store results\n",
    "results = {}\n",
    "\n",
    "# Train and evaluate each model\n",
    "for model_name, model in models.items():\n",
    "    # Train the model\n",
    "    model.fit(X_train, y_train)\n",
    "    \n",
    "    # Make predictions\n",
    "    y_pred = model.predict(X_test)\n",
    "    \n",
    "    # Evaluate the model\n",
    "    mse = mean_squared_error(y_test, y_pred)\n",
    "    mae = mean_absolute_error(y_test, y_pred)\n",
    "    r2 = r2_score(y_test, y_pred)\n",
    "    \n",
    "    # Save results\n",
    "    results[model_name] = {'MSE': mse, 'MAE': mae, 'R²': r2}\n",
    "\n",
    "# Convert results to DataFrame for better visualization\n",
    "results_df = pd.DataFrame(results).T\n",
    "print(\"📊 Model Comparison:\")\n",
    "print(results_df)"
   ]
  },
  {
   "cell_type": "code",
   "execution_count": 18,
   "id": "3b19709a-7368-47e2-9e81-bc38d7f7973e",
   "metadata": {},
   "outputs": [
    {
     "data": {
      "image/png": "[encoded data removed]",
      "text/plain": [
       "<Figure size 1600x600 with 3 Axes>"
      ]
     },
     "metadata": {},
     "output_type": "display_data"
    }
   ],
   "source": [
    "import seaborn as sns\n",
    "\n",
    "results_df['Model'] = ['Linear Regression', 'Random Forest', 'SVR', 'XGBoost']\n",
    "\n",
    "# Set the seaborn style\n",
    "sns.set(style='whitegrid')\n",
    "\n",
    "# Set up the figure\n",
    "plt.figure(figsize=(16, 6))\n",
    "\n",
    "# 1️⃣ R² Score Plot\n",
    "plt.subplot(1, 3, 1)\n",
    "sns.barplot(x='Model', y='R²', data=results_df, palette='Greens',hue='Model',legend=False)\n",
    "plt.title('R² Score Comparison')\n",
    "plt.ylim(0, 1.05)\n",
    "plt.xticks(rotation=15)\n",
    "plt.ylabel('R² Score')\n",
    "\n",
    "# 2️⃣ MAE Plot\n",
    "plt.subplot(1, 3, 2)\n",
    "sns.barplot(x='Model', y='MAE', data=results_df, palette='Blues',hue='Model',legend=False)\n",
    "plt.title('Mean Absolute Error (MAE)')\n",
    "plt.xticks(rotation=15)\n",
    "plt.ylabel('MAE')\n",
    "\n",
    "# 3️⃣ MSE Plot\n",
    "plt.subplot(1, 3, 3)\n",
    "sns.barplot(x='Model', y='MSE', data=results_df, palette='Reds',hue='Model',legend=False)\n",
    "plt.title('Mean Squared Error (MSE)')\n",
    "plt.xticks(rotation=15)\n",
    "plt.ylabel('MSE')\n",
    "\n",
    "# Layout adjustment\n",
    "plt.tight_layout()\n",
    "plt.show()\n"
   ]
  },
  {
   "cell_type": "code",
   "execution_count": 20,
   "id": "99c0212c-f4ff-4a3d-8c05-2648426a7e18",
   "metadata": {},
   "outputs": [
    {
     "name": "stdout",
     "output_type": "stream",
     "text": [
      "📈 Final RandomForestRegressor Model Performance:\n",
      "R² Score: 1.0000\n",
      "MAE: ₹102.26\n",
      "MSE: ₹67,391.45\n"
     ]
    }
   ],
   "source": [
    "# Train the RandomForest model\n",
    "\n",
    "from sklearn.ensemble import RandomForestRegressor\n",
    "rfr_model = RandomForestRegressor(n_estimators=100, random_state=42)\n",
    "rfr_model.fit(X_train, y_train.values.ravel())\n",
    "\n",
    "# Predict and evaluate\n",
    "y_pred = rfr_model.predict(X_test)\n",
    "\n",
    "# Evaluation\n",
    "r2 = r2_score(y_test, y_pred)\n",
    "mae = mean_absolute_error(y_test, y_pred)\n",
    "mse = mean_squared_error(y_test, y_pred)\n",
    "\n",
    "print(\"📈 Final RandomForestRegressor Model Performance:\")\n",
    "print(f\"R² Score: {r2:.4f}\")\n",
    "print(f\"MAE: ₹{mae:,.2f}\")\n",
    "print(f\"MSE: ₹{mse:,.2f}\")"
   ]
  },
  {
   "cell_type": "code",
   "execution_count": 21,
   "id": "095f6ae2-cdb9-4f7e-b50b-6ff56cbf152b",
   "metadata": {},
   "outputs": [
    {
     "name": "stderr",
     "output_type": "stream",
     "text": [
      "C:\\Users\\adira\\AppData\\Local\\Temp\\ipykernel_24532\\4171209752.py:13: FutureWarning: \n",
      "\n",
      "Passing `palette` without assigning `hue` is deprecated and will be removed in v0.14.0. Assign the `y` variable to `hue` and set `legend=False` for the same effect.\n",
      "\n",
      "  sns.barplot(data=feat_imp_df, x='Importance', y='Feature', palette='crest')\n"
     ]
    },
    {
     "data": {
      "image/png": "[encoded data removed]",
      "text/plain": [
       "<Figure size 1000x600 with 1 Axes>"
      ]
     },
     "metadata": {},
     "output_type": "display_data"
    }
   ],
   "source": [
    "# Get feature importances\n",
    "importances = rfr_model.feature_importances_\n",
    "feature_names = X.columns\n",
    "\n",
    "# Create DataFrame for feature importances\n",
    "feat_imp_df = pd.DataFrame({\n",
    "    'Feature': feature_names,\n",
    "    'Importance': importances\n",
    "}).sort_values(by='Importance', ascending=False)\n",
    "\n",
    "# Plot feature importances\n",
    "plt.figure(figsize=(10, 6))\n",
    "sns.barplot(data=feat_imp_df, x='Importance', y='Feature', palette='crest')\n",
    "plt.title(\"Feature Importance - Random Forest Regressor\", fontsize=14)\n",
    "plt.xlabel(\"Importance Score\")\n",
    "plt.ylabel(\"Feature\")\n",
    "plt.grid(axis='x', linestyle='--', alpha=0.7)\n",
    "plt.tight_layout()\n",
    "plt.show()"
   ]
  },
  {
   "cell_type": "code",
   "execution_count": 22,
   "id": "bb71fdd8-0a9b-4f0d-8ca2-0fd23c072a82",
   "metadata": {},
   "outputs": [
    {
     "data": {
      "text/plain": [
       "['rf_model_compressed.pkl']"
      ]
     },
     "execution_count": 22,
     "metadata": {},
     "output_type": "execute_result"
    }
   ],
   "source": [
    "import joblib\n",
    "\n",
    "# Save the model with compression (optional)\n",
    "joblib.dump(rfr_model, 'rf_model_compressed.pkl', compress=3)\n"
   ]
  },
  {
   "cell_type": "code",
   "execution_count": null,
   "id": "78404322-9d90-4ac8-9096-c822c30046ad",
   "metadata": {},
   "outputs": [],
   "source": []
  }
 ],
 "metadata": {
  "kernelspec": {
   "display_name": "Python 3 (ipykernel)",
   "language": "python",
   "name": "python3"
  },
  "language_info": {
   "codemirror_mode": {
    "name": "ipython",
    "version": 3
   },
   "file_extension": ".py",
   "mimetype": "text/x-python",
   "name": "python",
   "nbconvert_exporter": "python",
   "pygments_lexer": "ipython3",
   "version": "3.12.4"
  }
 },
 "nbformat": 4,
 "nbformat_minor": 5
}
